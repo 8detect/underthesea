{
 "cells": [
  {
   "cell_type": "markdown",
   "metadata": {},
   "source": [
    "# Vietnamese Unicode\n",
    "\n",
    "This lab intend to give a demonstration about Vietname unicode normalization problems."
   ]
  },
  {
   "cell_type": "code",
   "execution_count": 100,
   "metadata": {
    "collapsed": false
   },
   "outputs": [],
   "source": [
    "# core Function: analyze characters\n",
    "# print utf-code of each characters in text\n",
    "def utf8_code(s):\n",
    "    for i in s:\n",
    "        print \"{} -> {}\".format(i.encode(\"utf-8\"), i.encode(\"utf-8\").encode(\"hex\"))"
   ]
  },
  {
   "cell_type": "markdown",
   "metadata": {},
   "source": [
    "## Unicode tổ hợp và unicode dựng sẵn"
   ]
  },
  {
   "cell_type": "code",
   "execution_count": 85,
   "metadata": {
    "collapsed": false
   },
   "outputs": [
    {
     "name": "stdout",
     "output_type": "stream",
     "text": [
      "c -> 63\n",
      "o -> 6f\n",
      "̣ -> cca3\n",
      "̂ -> cc82\n",
      "n -> 6e\n",
      "g -> 67\n",
      "  -> 20\n",
      "h -> 68\n",
      "o -> 6f\n",
      "̀ -> cc80\n",
      "a -> 61\n",
      "  -> 20\n",
      "x -> 78\n",
      "a -> 61\n",
      "̃ -> cc83\n",
      "  -> 20\n",
      "h -> 68\n",
      "o -> 6f\n",
      "̣ -> cca3\n",
      "̂ -> cc82\n",
      "i -> 69\n"
     ]
    }
   ],
   "source": [
    "# unicode tổ hợp\n",
    "s = u\"cộng hòa xã hội\"\n",
    "utf8_code(s)"
   ]
  },
  {
   "cell_type": "code",
   "execution_count": 86,
   "metadata": {
    "collapsed": false
   },
   "outputs": [
    {
     "name": "stdout",
     "output_type": "stream",
     "text": [
      "c -> 63\n",
      "ộ -> e1bb99\n",
      "n -> 6e\n",
      "g -> 67\n",
      "  -> 20\n",
      "h -> 68\n",
      "ò -> c3b2\n",
      "a -> 61\n",
      "  -> 20\n",
      "x -> 78\n",
      "ã -> c3a3\n",
      "  -> 20\n",
      "h -> 68\n",
      "ộ -> e1bb99\n",
      "i -> 69\n"
     ]
    }
   ],
   "source": [
    "# unicode dựng sẵn\n",
    "s = u\"cộng hòa xã hội\"\n",
    "utf8_code(s)"
   ]
  },
  {
   "cell_type": "markdown",
   "metadata": {},
   "source": [
    "# After normalization"
   ]
  },
  {
   "cell_type": "code",
   "execution_count": 96,
   "metadata": {
    "collapsed": false
   },
   "outputs": [
    {
     "name": "stdout",
     "output_type": "stream",
     "text": [
      "c -> 63\n",
      "o -> 6f\n",
      "̣ -> cca3\n",
      "̂ -> cc82\n",
      "n -> 6e\n",
      "g -> 67\n",
      "  -> 20\n",
      "h -> 68\n",
      "o -> 6f\n",
      "̀ -> cc80\n",
      "a -> 61\n",
      "  -> 20\n",
      "x -> 78\n",
      "a -> 61\n",
      "̃ -> cc83\n",
      "  -> 20\n",
      "h -> 68\n",
      "o -> 6f\n",
      "̣ -> cca3\n",
      "̂ -> cc82\n",
      "i -> 69\n"
     ]
    }
   ],
   "source": [
    "import unicodedata\n",
    "\n",
    "# unicode dựng sẵn\n",
    "s = u\"cộng hòa xã hội\"\n",
    "\n",
    "utf8_code(s)"
   ]
  },
  {
   "cell_type": "code",
   "execution_count": 97,
   "metadata": {
    "collapsed": false
   },
   "outputs": [
    {
     "name": "stdout",
     "output_type": "stream",
     "text": [
      "c -> 63\n",
      "ộ -> e1bb99\n",
      "n -> 6e\n",
      "g -> 67\n",
      "  -> 20\n",
      "h -> 68\n",
      "ò -> c3b2\n",
      "a -> 61\n",
      "  -> 20\n",
      "x -> 78\n",
      "ã -> c3a3\n",
      "  -> 20\n",
      "h -> 68\n",
      "ộ -> e1bb99\n",
      "i -> 69\n"
     ]
    }
   ],
   "source": [
    "utf8_code(unicodedata.normalize(\"NFC\", s))"
   ]
  },
  {
   "cell_type": "code",
   "execution_count": 101,
   "metadata": {
    "collapsed": false
   },
   "outputs": [
    {
     "name": "stdout",
     "output_type": "stream",
     "text": [
      "c -> 63\n",
      "o -> 6f\n",
      "̣ -> cca3\n",
      "̂ -> cc82\n",
      "n -> 6e\n",
      "g -> 67\n",
      "  -> 20\n",
      "h -> 68\n",
      "o -> 6f\n",
      "̀ -> cc80\n",
      "a -> 61\n",
      "  -> 20\n",
      "x -> 78\n",
      "a -> 61\n",
      "̃ -> cc83\n",
      "  -> 20\n",
      "h -> 68\n",
      "o -> 6f\n",
      "̣ -> cca3\n",
      "̂ -> cc82\n",
      "i -> 69\n"
     ]
    }
   ],
   "source": [
    "utf8_code(unicodedata.normalize(\"NFD\", s))"
   ]
  },
  {
   "cell_type": "code",
   "execution_count": 102,
   "metadata": {
    "collapsed": false
   },
   "outputs": [
    {
     "name": "stdout",
     "output_type": "stream",
     "text": [
      "c -> 63\n",
      "ộ -> e1bb99\n",
      "n -> 6e\n",
      "g -> 67\n",
      "  -> 20\n",
      "h -> 68\n",
      "ò -> c3b2\n",
      "a -> 61\n",
      "  -> 20\n",
      "x -> 78\n",
      "ã -> c3a3\n",
      "  -> 20\n",
      "h -> 68\n",
      "ộ -> e1bb99\n",
      "i -> 69\n"
     ]
    }
   ],
   "source": [
    "utf8_code(unicodedata.normalize(\"NFKC\", s))"
   ]
  },
  {
   "cell_type": "code",
   "execution_count": 103,
   "metadata": {
    "collapsed": false
   },
   "outputs": [
    {
     "name": "stdout",
     "output_type": "stream",
     "text": [
      "c -> 63\n",
      "o -> 6f\n",
      "̣ -> cca3\n",
      "̂ -> cc82\n",
      "n -> 6e\n",
      "g -> 67\n",
      "  -> 20\n",
      "h -> 68\n",
      "o -> 6f\n",
      "̀ -> cc80\n",
      "a -> 61\n",
      "  -> 20\n",
      "x -> 78\n",
      "a -> 61\n",
      "̃ -> cc83\n",
      "  -> 20\n",
      "h -> 68\n",
      "o -> 6f\n",
      "̣ -> cca3\n",
      "̂ -> cc82\n",
      "i -> 69\n"
     ]
    }
   ],
   "source": [
    "utf8_code(unicodedata.normalize(\"NFKD\", s))"
   ]
  }
 ],
 "metadata": {
  "kernelspec": {
   "display_name": "Python 2",
   "language": "python",
   "name": "python2"
  },
  "language_info": {
   "codemirror_mode": {
    "name": "ipython",
    "version": 2.0
   },
   "file_extension": ".py",
   "mimetype": "text/x-python",
   "name": "python",
   "nbconvert_exporter": "python",
   "pygments_lexer": "ipython2",
   "version": "2.7.13"
  }
 },
 "nbformat": 4,
 "nbformat_minor": 0
}
