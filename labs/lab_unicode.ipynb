{
 "cells": [
  {
   "cell_type": "markdown",
   "metadata": {},
   "source": [
    "# Vietnamese Unicode\n",
    "\n",
    "This lab intend to give a demonstration about Vietname unicode normalization problems."
   ]
  },
  {
   "cell_type": "code",
   "execution_count": 100,
   "metadata": {
    "collapsed": false
   },
   "outputs": [],
   "source": [
    "# core Function: analyze characters\n",
    "# print utf-code of each characters in text\n",
    "def utf8_code(s):\n",
    "    for i in s:\n",
    "        print \"{} -> {}\".format(i.encode(\"utf-8\"), i.encode(\"utf-8\").encode(\"hex\"))"
   ]
  },
  {
   "cell_type": "markdown",
   "metadata": {},
   "source": [
    "## Unicode tổ hợp và unicode dựng sẵn"
   ]
  },
  {
   "cell_type": "code",
   "execution_count": 85,
   "metadata": {
    "collapsed": false
   },
   "outputs": [
    {
     "name": "stdout",
     "output_type": "stream",
     "text": [
      "c -> 63\n",
      "o -> 6f\n",
      "̣ -> cca3\n",
      "̂ -> cc82\n",
      "n -> 6e\n",
      "g -> 67\n",
      "  -> 20\n",
      "h -> 68\n",
      "o -> 6f\n",
      "̀ -> cc80\n",
      "a -> 61\n",
      "  -> 20\n",
      "x -> 78\n",
      "a -> 61\n",
      "̃ -> cc83\n",
      "  -> 20\n",
      "h -> 68\n",
      "o -> 6f\n",
      "̣ -> cca3\n",
      "̂ -> cc82\n",
      "i -> 69\n"
     ]
    }
   ],
   "source": [
    "# unicode tổ hợp\n",
    "s = u\"cộng hòa xã hội\"\n",
    "utf8_code(s)"
   ]
  },
  {
   "cell_type": "code",
   "execution_count": 86,
   "metadata": {
    "collapsed": false
   },
   "outputs": [
    {
     "name": "stdout",
     "output_type": "stream",
     "text": [
      "c -> 63\n",
      "ộ -> e1bb99\n",
      "n -> 6e\n",
      "g -> 67\n",
      "  -> 20\n",
      "h -> 68\n",
      "ò -> c3b2\n",
      "a -> 61\n",
      "  -> 20\n",
      "x -> 78\n",
      "ã -> c3a3\n",
      "  -> 20\n",
      "h -> 68\n",
      "ộ -> e1bb99\n",
      "i -> 69\n"
     ]
    }
   ],
   "source": [
    "# unicode dựng sẵn\n",
    "s = u\"cộng hòa xã hội\"\n",
    "utf8_code(s)"
   ]
  },
  {
   "cell_type": "markdown",
   "metadata": {},
   "source": [
    "# After normalization"
   ]
  },
  {
   "cell_type": "code",
   "execution_count": 96,
   "metadata": {
    "collapsed": false
   },
   "outputs": [
    {
     "name": "stdout",
     "output_type": "stream",
     "text": [
      "c -> 63\n",
      "o -> 6f\n",
      "̣ -> cca3\n",
      "̂ -> cc82\n",
      "n -> 6e\n",
      "g -> 67\n",
      "  -> 20\n",
      "h -> 68\n",
      "o -> 6f\n",
      "̀ -> cc80\n",
      "a -> 61\n",
      "  -> 20\n",
      "x -> 78\n",
      "a -> 61\n",
      "̃ -> cc83\n",
      "  -> 20\n",
      "h -> 68\n",
      "o -> 6f\n",
      "̣ -> cca3\n",
      "̂ -> cc82\n",
      "i -> 69\n"
     ]
    }
   ],
   "source": [
    "import unicodedata\n",
    "\n",
    "# unicode dựng sẵn\n",
    "s = u\"cộng hòa xã hội\"\n",
    "\n",
    "utf8_code(s)"
   ]
  },
  {
   "cell_type": "code",
   "execution_count": 97,
   "metadata": {
    "collapsed": false
   },
   "outputs": [
    {
     "name": "stdout",
     "output_type": "stream",
     "text": [
      "c -> 63\n",
      "ộ -> e1bb99\n",
      "n -> 6e\n",
      "g -> 67\n",
      "  -> 20\n",
      "h -> 68\n",
      "ò -> c3b2\n",
      "a -> 61\n",
      "  -> 20\n",
      "x -> 78\n",
      "ã -> c3a3\n",
      "  -> 20\n",
      "h -> 68\n",
      "ộ -> e1bb99\n",
      "i -> 69\n"
     ]
    }
   ],
   "source": [
    "utf8_code(unicodedata.normalize(\"NFC\", s))"
   ]
  },
  {
   "cell_type": "code",
   "execution_count": 101,
   "metadata": {
    "collapsed": false
   },
   "outputs": [
    {
     "name": "stdout",
     "output_type": "stream",
     "text": [
      "c -> 63\n",
      "o -> 6f\n",
      "̣ -> cca3\n",
      "̂ -> cc82\n",
      "n -> 6e\n",
      "g -> 67\n",
      "  -> 20\n",
      "h -> 68\n",
      "o -> 6f\n",
      "̀ -> cc80\n",
      "a -> 61\n",
      "  -> 20\n",
      "x -> 78\n",
      "a -> 61\n",
      "̃ -> cc83\n",
      "  -> 20\n",
      "h -> 68\n",
      "o -> 6f\n",
      "̣ -> cca3\n",
      "̂ -> cc82\n",
      "i -> 69\n"
     ]
    }
   ],
   "source": [
    "utf8_code(unicodedata.normalize(\"NFD\", s))"
   ]
  },
  {
   "cell_type": "code",
   "execution_count": 102,
   "metadata": {
    "collapsed": false
   },
   "outputs": [
    {
     "name": "stdout",
     "output_type": "stream",
     "text": [
      "c -> 63\n",
      "ộ -> e1bb99\n",
      "n -> 6e\n",
      "g -> 67\n",
      "  -> 20\n",
      "h -> 68\n",
      "ò -> c3b2\n",
      "a -> 61\n",
      "  -> 20\n",
      "x -> 78\n",
      "ã -> c3a3\n",
      "  -> 20\n",
      "h -> 68\n",
      "ộ -> e1bb99\n",
      "i -> 69\n"
     ]
    }
   ],
   "source": [
    "utf8_code(unicodedata.normalize(\"NFKC\", s))"
   ]
  },
  {
   "cell_type": "code",
   "execution_count": 103,
   "metadata": {
    "collapsed": false
   },
   "outputs": [
    {
     "name": "stdout",
     "output_type": "stream",
     "text": [
      "c -> 63\n",
      "o -> 6f\n",
      "̣ -> cca3\n",
      "̂ -> cc82\n",
      "n -> 6e\n",
      "g -> 67\n",
      "  -> 20\n",
      "h -> 68\n",
      "o -> 6f\n",
      "̀ -> cc80\n",
      "a -> 61\n",
      "  -> 20\n",
      "x -> 78\n",
      "a -> 61\n",
      "̃ -> cc83\n",
      "  -> 20\n",
      "h -> 68\n",
      "o -> 6f\n",
      "̣ -> cca3\n",
      "̂ -> cc82\n",
      "i -> 69\n"
     ]
    }
   ],
   "source": [
    "utf8_code(unicodedata.normalize(\"NFKD\", s))"
   ]
  },
  {
   "cell_type": "markdown",
   "metadata": {},
   "source": [
    "## One symbol, many characters"
   ]
  },
  {
   "cell_type": "markdown",
   "metadata": {},
   "source": [
    "Letter <b>`Đ`</b> has many characters in unicode\n",
    "\n",
    "<table class=\"table\">\n",
    "<tr>\n",
    "<td><b>Character</b></td>\n",
    "<td><b>UTF-Code</b></td>\n",
    "<td><b>Unicode</b></td>\n",
    "</tr>\n",
    "<tr>\n",
    "<td>Ð</td>\n",
    "<td>C3 90</td>\n",
    "<td><a href=\"https://unicode-table.com/en/00D0/\">U+00D0</a></td>\n",
    "</tr>\n",
    "<tr>\n",
    "<td>Đ</td>\n",
    "<td>C4 90</td>\n",
    "<td><a href=\"https://unicode-table.com/en/0110/\">U+0110</a></td>\n",
    "</tr>\n",
    "<tr>\n",
    "<td>Ɖ</td>\n",
    "<td>C6 89</td>\n",
    "<td><a href=\"https://unicode-table.com/en/0189/\">U+0189</a></td>\n",
    "</tr>\n",
    "<tr>\n",
    "<td>ᴆ</td>\n",
    "<td>E1 B4 86</td>\n",
    "<td><a href=\"https://unicode-table.com/en/1D06/\">U+1D06</a></td>\n",
    "</tr>\n",
    "</table>"
   ]
  },
  {
   "cell_type": "code",
   "execution_count": 20,
   "metadata": {
    "collapsed": false
   },
   "outputs": [
    {
     "name": "stdout",
     "output_type": "stream",
     "text": [
      "Ð -> c390\n",
      "Đ -> c490\n",
      "Ɖ -> c689\n",
      "ᴆ -> e1b486\n"
     ]
    }
   ],
   "source": [
    "text = u\"ÐĐƉᴆ\"\n",
    "utf8_code(text)"
   ]
  },
  {
   "cell_type": "code",
   "execution_count": 21,
   "metadata": {
    "collapsed": false
   },
   "outputs": [
    {
     "name": "stdout",
     "output_type": "stream",
     "text": [
      "Ð -> c390\n",
      "Đ -> c490\n",
      "Ɖ -> c689\n",
      "ᴆ -> e1b486\n"
     ]
    }
   ],
   "source": [
    "utf8_code(unicodedata.normalize(\"NFC\", text))"
   ]
  },
  {
   "cell_type": "markdown",
   "metadata": {},
   "source": [
    "### Convert to TCVN 6609"
   ]
  },
  {
   "cell_type": "code",
   "execution_count": 24,
   "metadata": {
    "collapsed": false
   },
   "outputs": [
    {
     "name": "stdout",
     "output_type": "stream",
     "text": [
      "Vietnamese_Vietnam.1258\n",
      "ABCDEFGHIJKLMNOPQRSTUVWXYZabcdefghijklmnopqrstuvwxyz���������������������������������������������������������������\n"
     ]
    }
   ],
   "source": [
    "from locale import LC_ALL, setlocale\n",
    "print setlocale(LC_ALL,\"Vietnamese\")\n",
    "\n",
    "from string import letters\n",
    "print letters"
   ]
  },
  {
   "cell_type": "code",
   "execution_count": null,
   "metadata": {
    "collapsed": true
   },
   "outputs": [],
   "source": []
  }
 ],
 "metadata": {
  "kernelspec": {
   "display_name": "Python 2",
   "language": "python",
   "name": "python2"
  },
  "language_info": {
   "codemirror_mode": {
    "name": "ipython",
    "version": 2
   },
   "file_extension": ".py",
   "mimetype": "text/x-python",
   "name": "python",
   "nbconvert_exporter": "python",
   "pygments_lexer": "ipython2",
   "version": "2.7.13"
  }
 },
 "nbformat": 4,
 "nbformat_minor": 0
}
